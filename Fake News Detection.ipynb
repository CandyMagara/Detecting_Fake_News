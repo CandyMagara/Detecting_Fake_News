{
 "cells": [
  {
   "cell_type": "markdown",
   "metadata": {},
   "source": [
    "This project aims to identify fake news using machine learning techniques. The data is obtained from the LIAR dataset. This dataset was developed by <a href='https://sites.cs.ucsb.edu/~william/papers/acl2017.pdfWilliam' target='_blank'> William Yang Wang </a> and consists of three files namely train, test and valid.  The first step is to import the necessary module imports that is numpy, pandas and sk.learn. "
   ]
  },
  {
   "cell_type": "code",
   "execution_count": 74,
   "metadata": {},
   "outputs": [],
   "source": [
    "import numpy as np\n",
    "import pandas as pd\n",
    "import itertools\n",
    "from sklearn.model_selection import train_test_split\n",
    "from sklearn.feature_extraction.text import TfidfVectorizer\n",
    "from sklearn.linear_model import PassiveAggressiveClassifier\n",
    "from sklearn.naive_bayes import MultinomialNB\n",
    "from sklearn.linear_model import  LogisticRegression\n",
    "from sklearn.linear_model import SGDClassifier\n",
    "from sklearn import svm\n",
    "from sklearn.ensemble import RandomForestClassifier\n",
    "from sklearn.metrics import accuracy_score, confusion_matrix"
   ]
  },
  {
   "cell_type": "markdown",
   "metadata": {},
   "source": [
    "The next step is to read in the liar datasets into Jupyter. The datasets have already been split into training and test datasets."
   ]
  },
  {
   "cell_type": "code",
   "execution_count": 3,
   "metadata": {},
   "outputs": [],
   "source": [
    "test = pd.read_csv(r\"C:\\Users\\user\\Downloads\\liar_dataset\\test.tsv\", sep='\\t')\n",
    "train = pd.read_csv(r\"C:\\Users\\user\\Downloads\\liar_dataset\\train.tsv\", sep='\\t')"
   ]
  },
  {
   "cell_type": "markdown",
   "metadata": {},
   "source": [
    "To examine the test and training datasets, we use the .head() function. below we can see that the dataframes have 14 columns. These columns are:\n",
    " - Column 1: Statement ID.\n",
    " - Column 2: Label class.\n",
    " - Column 3: Statement.\n",
    " - Column 4: Subject(s).\n",
    " - Column 5: Speaker.\n",
    " - Column 6: Speaker's job title.\n",
    " - Column 7: The State.\n",
    " - Column 8: Party affiliation i.e. Republican or Democrat.\n",
    " - Columns 9-13: Total credit history count, including the current statement.\n",
    " - Column 14: Venue / location of the statement."
   ]
  },
  {
   "cell_type": "code",
   "execution_count": 4,
   "metadata": {},
   "outputs": [
    {
     "data": {
      "text/html": [
       "<div>\n",
       "<style scoped>\n",
       "    .dataframe tbody tr th:only-of-type {\n",
       "        vertical-align: middle;\n",
       "    }\n",
       "\n",
       "    .dataframe tbody tr th {\n",
       "        vertical-align: top;\n",
       "    }\n",
       "\n",
       "    .dataframe thead th {\n",
       "        text-align: right;\n",
       "    }\n",
       "</style>\n",
       "<table border=\"1\" class=\"dataframe\">\n",
       "  <thead>\n",
       "    <tr style=\"text-align: right;\">\n",
       "      <th></th>\n",
       "      <th>11972.json</th>\n",
       "      <th>true</th>\n",
       "      <th>Building a wall on the U.S.-Mexico border will take literally years.</th>\n",
       "      <th>immigration</th>\n",
       "      <th>rick-perry</th>\n",
       "      <th>Governor</th>\n",
       "      <th>Texas</th>\n",
       "      <th>republican</th>\n",
       "      <th>30</th>\n",
       "      <th>30.1</th>\n",
       "      <th>42</th>\n",
       "      <th>23</th>\n",
       "      <th>18</th>\n",
       "      <th>Radio interview</th>\n",
       "    </tr>\n",
       "  </thead>\n",
       "  <tbody>\n",
       "    <tr>\n",
       "      <th>0</th>\n",
       "      <td>11685.json</td>\n",
       "      <td>false</td>\n",
       "      <td>Wisconsin is on pace to double the number of l...</td>\n",
       "      <td>jobs</td>\n",
       "      <td>katrina-shankland</td>\n",
       "      <td>State representative</td>\n",
       "      <td>Wisconsin</td>\n",
       "      <td>democrat</td>\n",
       "      <td>2</td>\n",
       "      <td>1</td>\n",
       "      <td>0</td>\n",
       "      <td>0</td>\n",
       "      <td>0</td>\n",
       "      <td>a news conference</td>\n",
       "    </tr>\n",
       "    <tr>\n",
       "      <th>1</th>\n",
       "      <td>11096.json</td>\n",
       "      <td>false</td>\n",
       "      <td>Says John McCain has done nothing to help the ...</td>\n",
       "      <td>military,veterans,voting-record</td>\n",
       "      <td>donald-trump</td>\n",
       "      <td>President-Elect</td>\n",
       "      <td>New York</td>\n",
       "      <td>republican</td>\n",
       "      <td>63</td>\n",
       "      <td>114</td>\n",
       "      <td>51</td>\n",
       "      <td>37</td>\n",
       "      <td>61</td>\n",
       "      <td>comments on ABC's This Week.</td>\n",
       "    </tr>\n",
       "    <tr>\n",
       "      <th>2</th>\n",
       "      <td>5209.json</td>\n",
       "      <td>half-true</td>\n",
       "      <td>Suzanne Bonamici supports a plan that will cut...</td>\n",
       "      <td>medicare,message-machine-2012,campaign-adverti...</td>\n",
       "      <td>rob-cornilles</td>\n",
       "      <td>consultant</td>\n",
       "      <td>Oregon</td>\n",
       "      <td>republican</td>\n",
       "      <td>1</td>\n",
       "      <td>1</td>\n",
       "      <td>3</td>\n",
       "      <td>1</td>\n",
       "      <td>1</td>\n",
       "      <td>a radio show</td>\n",
       "    </tr>\n",
       "    <tr>\n",
       "      <th>3</th>\n",
       "      <td>9524.json</td>\n",
       "      <td>pants-fire</td>\n",
       "      <td>When asked by a reporter whether hes at the ce...</td>\n",
       "      <td>campaign-finance,legal-issues,campaign-adverti...</td>\n",
       "      <td>state-democratic-party-wisconsin</td>\n",
       "      <td>NaN</td>\n",
       "      <td>Wisconsin</td>\n",
       "      <td>democrat</td>\n",
       "      <td>5</td>\n",
       "      <td>7</td>\n",
       "      <td>2</td>\n",
       "      <td>2</td>\n",
       "      <td>7</td>\n",
       "      <td>a web video</td>\n",
       "    </tr>\n",
       "    <tr>\n",
       "      <th>4</th>\n",
       "      <td>5962.json</td>\n",
       "      <td>true</td>\n",
       "      <td>Over the past five years the federal governmen...</td>\n",
       "      <td>federal-budget,pensions,retirement</td>\n",
       "      <td>brendan-doherty</td>\n",
       "      <td>NaN</td>\n",
       "      <td>Rhode Island</td>\n",
       "      <td>republican</td>\n",
       "      <td>1</td>\n",
       "      <td>2</td>\n",
       "      <td>1</td>\n",
       "      <td>1</td>\n",
       "      <td>0</td>\n",
       "      <td>a campaign website</td>\n",
       "    </tr>\n",
       "  </tbody>\n",
       "</table>\n",
       "</div>"
      ],
      "text/plain": [
       "   11972.json        true  \\\n",
       "0  11685.json       false   \n",
       "1  11096.json       false   \n",
       "2   5209.json   half-true   \n",
       "3   9524.json  pants-fire   \n",
       "4   5962.json        true   \n",
       "\n",
       "  Building a wall on the U.S.-Mexico border will take literally years.  \\\n",
       "0  Wisconsin is on pace to double the number of l...                     \n",
       "1  Says John McCain has done nothing to help the ...                     \n",
       "2  Suzanne Bonamici supports a plan that will cut...                     \n",
       "3  When asked by a reporter whether hes at the ce...                     \n",
       "4  Over the past five years the federal governmen...                     \n",
       "\n",
       "                                         immigration  \\\n",
       "0                                               jobs   \n",
       "1                    military,veterans,voting-record   \n",
       "2  medicare,message-machine-2012,campaign-adverti...   \n",
       "3  campaign-finance,legal-issues,campaign-adverti...   \n",
       "4                 federal-budget,pensions,retirement   \n",
       "\n",
       "                         rick-perry              Governor         Texas  \\\n",
       "0                 katrina-shankland  State representative     Wisconsin   \n",
       "1                      donald-trump       President-Elect      New York   \n",
       "2                     rob-cornilles            consultant        Oregon   \n",
       "3  state-democratic-party-wisconsin                   NaN     Wisconsin   \n",
       "4                   brendan-doherty                   NaN  Rhode Island   \n",
       "\n",
       "   republican  30  30.1  42  23  18               Radio interview  \n",
       "0    democrat   2     1   0   0   0             a news conference  \n",
       "1  republican  63   114  51  37  61  comments on ABC's This Week.  \n",
       "2  republican   1     1   3   1   1                  a radio show  \n",
       "3    democrat   5     7   2   2   7                   a web video  \n",
       "4  republican   1     2   1   1   0            a campaign website  "
      ]
     },
     "execution_count": 4,
     "metadata": {},
     "output_type": "execute_result"
    }
   ],
   "source": [
    "test.head()"
   ]
  },
  {
   "cell_type": "code",
   "execution_count": 5,
   "metadata": {},
   "outputs": [
    {
     "data": {
      "text/html": [
       "<div>\n",
       "<style scoped>\n",
       "    .dataframe tbody tr th:only-of-type {\n",
       "        vertical-align: middle;\n",
       "    }\n",
       "\n",
       "    .dataframe tbody tr th {\n",
       "        vertical-align: top;\n",
       "    }\n",
       "\n",
       "    .dataframe thead th {\n",
       "        text-align: right;\n",
       "    }\n",
       "</style>\n",
       "<table border=\"1\" class=\"dataframe\">\n",
       "  <thead>\n",
       "    <tr style=\"text-align: right;\">\n",
       "      <th></th>\n",
       "      <th>2635.json</th>\n",
       "      <th>false</th>\n",
       "      <th>Says the Annies List political group supports third-trimester abortions on demand.</th>\n",
       "      <th>abortion</th>\n",
       "      <th>dwayne-bohac</th>\n",
       "      <th>State representative</th>\n",
       "      <th>Texas</th>\n",
       "      <th>republican</th>\n",
       "      <th>0</th>\n",
       "      <th>1</th>\n",
       "      <th>0.1</th>\n",
       "      <th>0.2</th>\n",
       "      <th>0.3</th>\n",
       "      <th>a mailer</th>\n",
       "    </tr>\n",
       "  </thead>\n",
       "  <tbody>\n",
       "    <tr>\n",
       "      <th>0</th>\n",
       "      <td>10540.json</td>\n",
       "      <td>half-true</td>\n",
       "      <td>When did the decline of coal start? It started...</td>\n",
       "      <td>energy,history,job-accomplishments</td>\n",
       "      <td>scott-surovell</td>\n",
       "      <td>State delegate</td>\n",
       "      <td>Virginia</td>\n",
       "      <td>democrat</td>\n",
       "      <td>0.0</td>\n",
       "      <td>0.0</td>\n",
       "      <td>1.0</td>\n",
       "      <td>1.0</td>\n",
       "      <td>0.0</td>\n",
       "      <td>a floor speech.</td>\n",
       "    </tr>\n",
       "    <tr>\n",
       "      <th>1</th>\n",
       "      <td>324.json</td>\n",
       "      <td>mostly-true</td>\n",
       "      <td>Hillary Clinton agrees with John McCain \"by vo...</td>\n",
       "      <td>foreign-policy</td>\n",
       "      <td>barack-obama</td>\n",
       "      <td>President</td>\n",
       "      <td>Illinois</td>\n",
       "      <td>democrat</td>\n",
       "      <td>70.0</td>\n",
       "      <td>71.0</td>\n",
       "      <td>160.0</td>\n",
       "      <td>163.0</td>\n",
       "      <td>9.0</td>\n",
       "      <td>Denver</td>\n",
       "    </tr>\n",
       "    <tr>\n",
       "      <th>2</th>\n",
       "      <td>1123.json</td>\n",
       "      <td>false</td>\n",
       "      <td>Health care reform legislation is likely to ma...</td>\n",
       "      <td>health-care</td>\n",
       "      <td>blog-posting</td>\n",
       "      <td>NaN</td>\n",
       "      <td>NaN</td>\n",
       "      <td>none</td>\n",
       "      <td>7.0</td>\n",
       "      <td>19.0</td>\n",
       "      <td>3.0</td>\n",
       "      <td>5.0</td>\n",
       "      <td>44.0</td>\n",
       "      <td>a news release</td>\n",
       "    </tr>\n",
       "    <tr>\n",
       "      <th>3</th>\n",
       "      <td>9028.json</td>\n",
       "      <td>half-true</td>\n",
       "      <td>The economic turnaround started at the end of ...</td>\n",
       "      <td>economy,jobs</td>\n",
       "      <td>charlie-crist</td>\n",
       "      <td>NaN</td>\n",
       "      <td>Florida</td>\n",
       "      <td>democrat</td>\n",
       "      <td>15.0</td>\n",
       "      <td>9.0</td>\n",
       "      <td>20.0</td>\n",
       "      <td>19.0</td>\n",
       "      <td>2.0</td>\n",
       "      <td>an interview on CNN</td>\n",
       "    </tr>\n",
       "    <tr>\n",
       "      <th>4</th>\n",
       "      <td>12465.json</td>\n",
       "      <td>true</td>\n",
       "      <td>The Chicago Bears have had more starting quart...</td>\n",
       "      <td>education</td>\n",
       "      <td>robin-vos</td>\n",
       "      <td>Wisconsin Assembly speaker</td>\n",
       "      <td>Wisconsin</td>\n",
       "      <td>republican</td>\n",
       "      <td>0.0</td>\n",
       "      <td>3.0</td>\n",
       "      <td>2.0</td>\n",
       "      <td>5.0</td>\n",
       "      <td>1.0</td>\n",
       "      <td>a an online opinion-piece</td>\n",
       "    </tr>\n",
       "  </tbody>\n",
       "</table>\n",
       "</div>"
      ],
      "text/plain": [
       "    2635.json        false  \\\n",
       "0  10540.json    half-true   \n",
       "1    324.json  mostly-true   \n",
       "2   1123.json        false   \n",
       "3   9028.json    half-true   \n",
       "4  12465.json         true   \n",
       "\n",
       "  Says the Annies List political group supports third-trimester abortions on demand.  \\\n",
       "0  When did the decline of coal start? It started...                                   \n",
       "1  Hillary Clinton agrees with John McCain \"by vo...                                   \n",
       "2  Health care reform legislation is likely to ma...                                   \n",
       "3  The economic turnaround started at the end of ...                                   \n",
       "4  The Chicago Bears have had more starting quart...                                   \n",
       "\n",
       "                             abortion    dwayne-bohac  \\\n",
       "0  energy,history,job-accomplishments  scott-surovell   \n",
       "1                      foreign-policy    barack-obama   \n",
       "2                         health-care    blog-posting   \n",
       "3                        economy,jobs   charlie-crist   \n",
       "4                           education       robin-vos   \n",
       "\n",
       "         State representative      Texas  republican     0     1    0.1  \\\n",
       "0              State delegate   Virginia    democrat   0.0   0.0    1.0   \n",
       "1                   President   Illinois    democrat  70.0  71.0  160.0   \n",
       "2                         NaN        NaN        none   7.0  19.0    3.0   \n",
       "3                         NaN    Florida    democrat  15.0   9.0   20.0   \n",
       "4  Wisconsin Assembly speaker  Wisconsin  republican   0.0   3.0    2.0   \n",
       "\n",
       "     0.2   0.3                   a mailer  \n",
       "0    1.0   0.0            a floor speech.  \n",
       "1  163.0   9.0                     Denver  \n",
       "2    5.0  44.0             a news release  \n",
       "3   19.0   2.0        an interview on CNN  \n",
       "4    5.0   1.0  a an online opinion-piece  "
      ]
     },
     "execution_count": 5,
     "metadata": {},
     "output_type": "execute_result"
    }
   ],
   "source": [
    "train.head()"
   ]
  },
  {
   "cell_type": "markdown",
   "metadata": {},
   "source": [
    "From the cells above we can see all the data contained in the dataframes. As this project aims to detect fake news only the 2nd and 3rd columns are necessary. Below we edit the dataframe to only include those two columns and also name the two columns as Label and Statement columns."
   ]
  },
  {
   "cell_type": "code",
   "execution_count": 5,
   "metadata": {},
   "outputs": [
    {
     "data": {
      "text/html": [
       "<div>\n",
       "<style scoped>\n",
       "    .dataframe tbody tr th:only-of-type {\n",
       "        vertical-align: middle;\n",
       "    }\n",
       "\n",
       "    .dataframe tbody tr th {\n",
       "        vertical-align: top;\n",
       "    }\n",
       "\n",
       "    .dataframe thead th {\n",
       "        text-align: right;\n",
       "    }\n",
       "</style>\n",
       "<table border=\"1\" class=\"dataframe\">\n",
       "  <thead>\n",
       "    <tr style=\"text-align: right;\">\n",
       "      <th></th>\n",
       "      <th>Label</th>\n",
       "      <th>Statement</th>\n",
       "    </tr>\n",
       "  </thead>\n",
       "  <tbody>\n",
       "    <tr>\n",
       "      <th>0</th>\n",
       "      <td>false</td>\n",
       "      <td>Wisconsin is on pace to double the number of l...</td>\n",
       "    </tr>\n",
       "    <tr>\n",
       "      <th>1</th>\n",
       "      <td>false</td>\n",
       "      <td>Says John McCain has done nothing to help the ...</td>\n",
       "    </tr>\n",
       "    <tr>\n",
       "      <th>2</th>\n",
       "      <td>half-true</td>\n",
       "      <td>Suzanne Bonamici supports a plan that will cut...</td>\n",
       "    </tr>\n",
       "    <tr>\n",
       "      <th>3</th>\n",
       "      <td>pants-fire</td>\n",
       "      <td>When asked by a reporter whether hes at the ce...</td>\n",
       "    </tr>\n",
       "    <tr>\n",
       "      <th>4</th>\n",
       "      <td>true</td>\n",
       "      <td>Over the past five years the federal governmen...</td>\n",
       "    </tr>\n",
       "    <tr>\n",
       "      <th>5</th>\n",
       "      <td>true</td>\n",
       "      <td>Says that Tennessee law requires that schools ...</td>\n",
       "    </tr>\n",
       "    <tr>\n",
       "      <th>6</th>\n",
       "      <td>barely-true</td>\n",
       "      <td>Says Vice President Joe Biden \"admits that the...</td>\n",
       "    </tr>\n",
       "    <tr>\n",
       "      <th>7</th>\n",
       "      <td>true</td>\n",
       "      <td>Donald Trump is against marriage equality. He ...</td>\n",
       "    </tr>\n",
       "    <tr>\n",
       "      <th>8</th>\n",
       "      <td>barely-true</td>\n",
       "      <td>We know that more than half of Hillary Clinton...</td>\n",
       "    </tr>\n",
       "    <tr>\n",
       "      <th>9</th>\n",
       "      <td>barely-true</td>\n",
       "      <td>We know there are more Democrats in Georgia th...</td>\n",
       "    </tr>\n",
       "  </tbody>\n",
       "</table>\n",
       "</div>"
      ],
      "text/plain": [
       "         Label                                          Statement\n",
       "0        false  Wisconsin is on pace to double the number of l...\n",
       "1        false  Says John McCain has done nothing to help the ...\n",
       "2    half-true  Suzanne Bonamici supports a plan that will cut...\n",
       "3   pants-fire  When asked by a reporter whether hes at the ce...\n",
       "4         true  Over the past five years the federal governmen...\n",
       "5         true  Says that Tennessee law requires that schools ...\n",
       "6  barely-true  Says Vice President Joe Biden \"admits that the...\n",
       "7         true  Donald Trump is against marriage equality. He ...\n",
       "8  barely-true  We know that more than half of Hillary Clinton...\n",
       "9  barely-true  We know there are more Democrats in Georgia th..."
      ]
     },
     "execution_count": 5,
     "metadata": {},
     "output_type": "execute_result"
    }
   ],
   "source": [
    "test_data = test.iloc[:,1:3]\n",
    "test_data.columns = ['Label', 'Statement']\n",
    "\n",
    "test_data.head(10)"
   ]
  },
  {
   "cell_type": "code",
   "execution_count": 6,
   "metadata": {},
   "outputs": [
    {
     "data": {
      "text/html": [
       "<div>\n",
       "<style scoped>\n",
       "    .dataframe tbody tr th:only-of-type {\n",
       "        vertical-align: middle;\n",
       "    }\n",
       "\n",
       "    .dataframe tbody tr th {\n",
       "        vertical-align: top;\n",
       "    }\n",
       "\n",
       "    .dataframe thead th {\n",
       "        text-align: right;\n",
       "    }\n",
       "</style>\n",
       "<table border=\"1\" class=\"dataframe\">\n",
       "  <thead>\n",
       "    <tr style=\"text-align: right;\">\n",
       "      <th></th>\n",
       "      <th>Label</th>\n",
       "      <th>Statement</th>\n",
       "    </tr>\n",
       "  </thead>\n",
       "  <tbody>\n",
       "    <tr>\n",
       "      <th>0</th>\n",
       "      <td>half-true</td>\n",
       "      <td>When did the decline of coal start? It started...</td>\n",
       "    </tr>\n",
       "    <tr>\n",
       "      <th>1</th>\n",
       "      <td>mostly-true</td>\n",
       "      <td>Hillary Clinton agrees with John McCain \"by vo...</td>\n",
       "    </tr>\n",
       "    <tr>\n",
       "      <th>2</th>\n",
       "      <td>false</td>\n",
       "      <td>Health care reform legislation is likely to ma...</td>\n",
       "    </tr>\n",
       "    <tr>\n",
       "      <th>3</th>\n",
       "      <td>half-true</td>\n",
       "      <td>The economic turnaround started at the end of ...</td>\n",
       "    </tr>\n",
       "    <tr>\n",
       "      <th>4</th>\n",
       "      <td>true</td>\n",
       "      <td>The Chicago Bears have had more starting quart...</td>\n",
       "    </tr>\n",
       "    <tr>\n",
       "      <th>5</th>\n",
       "      <td>barely-true</td>\n",
       "      <td>Jim Dunnam has not lived in the district he re...</td>\n",
       "    </tr>\n",
       "    <tr>\n",
       "      <th>6</th>\n",
       "      <td>half-true</td>\n",
       "      <td>I'm the only person on this stage who has work...</td>\n",
       "    </tr>\n",
       "    <tr>\n",
       "      <th>7</th>\n",
       "      <td>half-true</td>\n",
       "      <td>However, it took $19.5 million in Oregon Lotte...</td>\n",
       "    </tr>\n",
       "    <tr>\n",
       "      <th>8</th>\n",
       "      <td>mostly-true</td>\n",
       "      <td>Says GOP primary opponents Glenn Grothman and ...</td>\n",
       "    </tr>\n",
       "    <tr>\n",
       "      <th>9</th>\n",
       "      <td>mostly-true</td>\n",
       "      <td>For the first time in history, the share of th...</td>\n",
       "    </tr>\n",
       "  </tbody>\n",
       "</table>\n",
       "</div>"
      ],
      "text/plain": [
       "         Label                                          Statement\n",
       "0    half-true  When did the decline of coal start? It started...\n",
       "1  mostly-true  Hillary Clinton agrees with John McCain \"by vo...\n",
       "2        false  Health care reform legislation is likely to ma...\n",
       "3    half-true  The economic turnaround started at the end of ...\n",
       "4         true  The Chicago Bears have had more starting quart...\n",
       "5  barely-true  Jim Dunnam has not lived in the district he re...\n",
       "6    half-true  I'm the only person on this stage who has work...\n",
       "7    half-true  However, it took $19.5 million in Oregon Lotte...\n",
       "8  mostly-true  Says GOP primary opponents Glenn Grothman and ...\n",
       "9  mostly-true  For the first time in history, the share of th..."
      ]
     },
     "execution_count": 6,
     "metadata": {},
     "output_type": "execute_result"
    }
   ],
   "source": [
    "train_data = train.iloc[:,1:3]\n",
    "train_data.columns = ['Label', 'Statement']\n",
    "\n",
    "train_data.head(10)"
   ]
  },
  {
   "cell_type": "markdown",
   "metadata": {},
   "source": [
    "Below we examine the shapes of the dataframes to see the proportions of test and train data."
   ]
  },
  {
   "cell_type": "code",
   "execution_count": 7,
   "metadata": {},
   "outputs": [
    {
     "data": {
      "text/plain": [
       "(1266, 2)"
      ]
     },
     "execution_count": 7,
     "metadata": {},
     "output_type": "execute_result"
    }
   ],
   "source": [
    "test_data.shape"
   ]
  },
  {
   "cell_type": "code",
   "execution_count": 8,
   "metadata": {},
   "outputs": [
    {
     "data": {
      "text/plain": [
       "(10239, 2)"
      ]
     },
     "execution_count": 8,
     "metadata": {},
     "output_type": "execute_result"
    }
   ],
   "source": [
    "train_data.shape"
   ]
  },
  {
   "cell_type": "markdown",
   "metadata": {},
   "source": [
    "The dataframes contain 6 classes in the Label columns. These classes are True, Mostly-true, Half-true, Barely-true, False and Pants-fire. For the project, there shall be two classes, True and False. True includes the True, Mostly-true, Half-true classes and False includes the Barely-true, False and Pants-fire classes."
   ]
  },
  {
   "cell_type": "code",
   "execution_count": 9,
   "metadata": {},
   "outputs": [
    {
     "data": {
      "text/html": [
       "<div>\n",
       "<style scoped>\n",
       "    .dataframe tbody tr th:only-of-type {\n",
       "        vertical-align: middle;\n",
       "    }\n",
       "\n",
       "    .dataframe tbody tr th {\n",
       "        vertical-align: top;\n",
       "    }\n",
       "\n",
       "    .dataframe thead th {\n",
       "        text-align: right;\n",
       "    }\n",
       "</style>\n",
       "<table border=\"1\" class=\"dataframe\">\n",
       "  <thead>\n",
       "    <tr style=\"text-align: right;\">\n",
       "      <th></th>\n",
       "      <th>Label</th>\n",
       "      <th>Statement</th>\n",
       "    </tr>\n",
       "  </thead>\n",
       "  <tbody>\n",
       "    <tr>\n",
       "      <th>0</th>\n",
       "      <td>false</td>\n",
       "      <td>Wisconsin is on pace to double the number of l...</td>\n",
       "    </tr>\n",
       "    <tr>\n",
       "      <th>1</th>\n",
       "      <td>false</td>\n",
       "      <td>Says John McCain has done nothing to help the ...</td>\n",
       "    </tr>\n",
       "    <tr>\n",
       "      <th>2</th>\n",
       "      <td>true</td>\n",
       "      <td>Suzanne Bonamici supports a plan that will cut...</td>\n",
       "    </tr>\n",
       "    <tr>\n",
       "      <th>3</th>\n",
       "      <td>false</td>\n",
       "      <td>When asked by a reporter whether hes at the ce...</td>\n",
       "    </tr>\n",
       "    <tr>\n",
       "      <th>4</th>\n",
       "      <td>true</td>\n",
       "      <td>Over the past five years the federal governmen...</td>\n",
       "    </tr>\n",
       "    <tr>\n",
       "      <th>5</th>\n",
       "      <td>true</td>\n",
       "      <td>Says that Tennessee law requires that schools ...</td>\n",
       "    </tr>\n",
       "    <tr>\n",
       "      <th>6</th>\n",
       "      <td>false</td>\n",
       "      <td>Says Vice President Joe Biden \"admits that the...</td>\n",
       "    </tr>\n",
       "    <tr>\n",
       "      <th>7</th>\n",
       "      <td>true</td>\n",
       "      <td>Donald Trump is against marriage equality. He ...</td>\n",
       "    </tr>\n",
       "    <tr>\n",
       "      <th>8</th>\n",
       "      <td>false</td>\n",
       "      <td>We know that more than half of Hillary Clinton...</td>\n",
       "    </tr>\n",
       "    <tr>\n",
       "      <th>9</th>\n",
       "      <td>false</td>\n",
       "      <td>We know there are more Democrats in Georgia th...</td>\n",
       "    </tr>\n",
       "  </tbody>\n",
       "</table>\n",
       "</div>"
      ],
      "text/plain": [
       "   Label                                          Statement\n",
       "0  false  Wisconsin is on pace to double the number of l...\n",
       "1  false  Says John McCain has done nothing to help the ...\n",
       "2   true  Suzanne Bonamici supports a plan that will cut...\n",
       "3  false  When asked by a reporter whether hes at the ce...\n",
       "4   true  Over the past five years the federal governmen...\n",
       "5   true  Says that Tennessee law requires that schools ...\n",
       "6  false  Says Vice President Joe Biden \"admits that the...\n",
       "7   true  Donald Trump is against marriage equality. He ...\n",
       "8  false  We know that more than half of Hillary Clinton...\n",
       "9  false  We know there are more Democrats in Georgia th..."
      ]
     },
     "execution_count": 9,
     "metadata": {},
     "output_type": "execute_result"
    }
   ],
   "source": [
    "test_data.loc[(test_data['Label'] == 'mostly-true') | (test_data['Label'] == 'half-true'), 'Label'] = 'true'\n",
    "\n",
    "test_data.loc[(test_data['Label'] == 'barely-true') | (test_data['Label'] == 'pants-fire'), 'Label'] = 'false'\n",
    "\n",
    "test_data.head(10)"
   ]
  },
  {
   "cell_type": "code",
   "execution_count": 11,
   "metadata": {},
   "outputs": [
    {
     "data": {
      "text/html": [
       "<div>\n",
       "<style scoped>\n",
       "    .dataframe tbody tr th:only-of-type {\n",
       "        vertical-align: middle;\n",
       "    }\n",
       "\n",
       "    .dataframe tbody tr th {\n",
       "        vertical-align: top;\n",
       "    }\n",
       "\n",
       "    .dataframe thead th {\n",
       "        text-align: right;\n",
       "    }\n",
       "</style>\n",
       "<table border=\"1\" class=\"dataframe\">\n",
       "  <thead>\n",
       "    <tr style=\"text-align: right;\">\n",
       "      <th></th>\n",
       "      <th>Label</th>\n",
       "      <th>Statement</th>\n",
       "    </tr>\n",
       "  </thead>\n",
       "  <tbody>\n",
       "    <tr>\n",
       "      <th>0</th>\n",
       "      <td>true</td>\n",
       "      <td>When did the decline of coal start? It started...</td>\n",
       "    </tr>\n",
       "    <tr>\n",
       "      <th>1</th>\n",
       "      <td>true</td>\n",
       "      <td>Hillary Clinton agrees with John McCain \"by vo...</td>\n",
       "    </tr>\n",
       "    <tr>\n",
       "      <th>2</th>\n",
       "      <td>false</td>\n",
       "      <td>Health care reform legislation is likely to ma...</td>\n",
       "    </tr>\n",
       "    <tr>\n",
       "      <th>3</th>\n",
       "      <td>true</td>\n",
       "      <td>The economic turnaround started at the end of ...</td>\n",
       "    </tr>\n",
       "    <tr>\n",
       "      <th>4</th>\n",
       "      <td>true</td>\n",
       "      <td>The Chicago Bears have had more starting quart...</td>\n",
       "    </tr>\n",
       "    <tr>\n",
       "      <th>5</th>\n",
       "      <td>false</td>\n",
       "      <td>Jim Dunnam has not lived in the district he re...</td>\n",
       "    </tr>\n",
       "    <tr>\n",
       "      <th>6</th>\n",
       "      <td>true</td>\n",
       "      <td>I'm the only person on this stage who has work...</td>\n",
       "    </tr>\n",
       "    <tr>\n",
       "      <th>7</th>\n",
       "      <td>true</td>\n",
       "      <td>However, it took $19.5 million in Oregon Lotte...</td>\n",
       "    </tr>\n",
       "    <tr>\n",
       "      <th>8</th>\n",
       "      <td>true</td>\n",
       "      <td>Says GOP primary opponents Glenn Grothman and ...</td>\n",
       "    </tr>\n",
       "    <tr>\n",
       "      <th>9</th>\n",
       "      <td>true</td>\n",
       "      <td>For the first time in history, the share of th...</td>\n",
       "    </tr>\n",
       "  </tbody>\n",
       "</table>\n",
       "</div>"
      ],
      "text/plain": [
       "   Label                                          Statement\n",
       "0   true  When did the decline of coal start? It started...\n",
       "1   true  Hillary Clinton agrees with John McCain \"by vo...\n",
       "2  false  Health care reform legislation is likely to ma...\n",
       "3   true  The economic turnaround started at the end of ...\n",
       "4   true  The Chicago Bears have had more starting quart...\n",
       "5  false  Jim Dunnam has not lived in the district he re...\n",
       "6   true  I'm the only person on this stage who has work...\n",
       "7   true  However, it took $19.5 million in Oregon Lotte...\n",
       "8   true  Says GOP primary opponents Glenn Grothman and ...\n",
       "9   true  For the first time in history, the share of th..."
      ]
     },
     "execution_count": 11,
     "metadata": {},
     "output_type": "execute_result"
    }
   ],
   "source": [
    "train_data.loc[(train_data['Label'] == 'mostly-true') | (train_data['Label'] == 'half-true'), 'Label'] = 'true'\n",
    "\n",
    "train_data.loc[(train_data['Label'] == 'barely-true') | (train_data['Label'] == 'pants-fire'), 'Label'] = 'false'\n",
    "\n",
    "train_data.head(10)"
   ]
  },
  {
   "cell_type": "code",
   "execution_count": 12,
   "metadata": {},
   "outputs": [],
   "source": [
    "x_train = train_data['Statement']\n",
    "y_train = train_data['Label']\n",
    "\n",
    "x_test = test_data['Statement']\n",
    "y_test = test_data['Label']"
   ]
  },
  {
   "cell_type": "markdown",
   "metadata": {},
   "source": [
    "The TfidfVectorizer is initialized to transform words into feature vectors. Common English stopwords are filtered out and the maximum document frequency is set at 0.9."
   ]
  },
  {
   "cell_type": "code",
   "execution_count": 13,
   "metadata": {},
   "outputs": [],
   "source": [
    "tfidf_vec=TfidfVectorizer(stop_words='english', max_df=0.9)\n",
    "\n",
    "tfidf_train=tfidf_vec.fit_transform(x_train) \n",
    "tfidf_test=tfidf_vec.transform(x_test)"
   ]
  },
  {
   "cell_type": "markdown",
   "metadata": {},
   "source": [
    "Below different classifiers will be used and compared in order to determine the classifier with the best performance in detecting fake news. The classifiers used are **Passive Aggressive**, **Logistic Regression**, **Naive-bayes**, **Stochastic Gradient Decent**, **Random Forest** and **Linear SVC** classifiers from sklearn. The first classifier is the **Passive Aggressive Classifier**."
   ]
  },
  {
   "cell_type": "code",
   "execution_count": 39,
   "metadata": {},
   "outputs": [
    {
     "name": "stdout",
     "output_type": "stream",
     "text": [
      "The accuracy is 0.5521327014218009\n"
     ]
    }
   ],
   "source": [
    "pac=PassiveAggressiveClassifier(max_iter=150)\n",
    "pac.fit(tfidf_train,y_train)\n",
    "\n",
    "pac_y_pred=pac.predict(tfidf_test)\n",
    "pac_score=accuracy_score(y_test,pac_y_pred)\n",
    "print(f'The accuracy is {(pac_score)}')"
   ]
  },
  {
   "cell_type": "markdown",
   "metadata": {},
   "source": [
    "The second model is the Naive-Bayes classifier."
   ]
  },
  {
   "cell_type": "code",
   "execution_count": 40,
   "metadata": {},
   "outputs": [
    {
     "name": "stdout",
     "output_type": "stream",
     "text": [
      "The accuracy is 0.6011058451816745\n"
     ]
    }
   ],
   "source": [
    "nb_model = MultinomialNB()\n",
    "\n",
    "nb_model.fit(tfidf_train, y_train)\n",
    "nb_y_pred = nb_model.predict(tfidf_test)\n",
    "\n",
    "nb_score=accuracy_score(y_test,nb_y_pred)\n",
    "print(f'The accuracy is {(nb_score)}')"
   ]
  },
  {
   "cell_type": "markdown",
   "metadata": {},
   "source": [
    "The third model used is the Logistic Regression Classifier."
   ]
  },
  {
   "cell_type": "code",
   "execution_count": 41,
   "metadata": {},
   "outputs": [
    {
     "name": "stdout",
     "output_type": "stream",
     "text": [
      "The accuracy is 0.6161137440758294\n"
     ]
    }
   ],
   "source": [
    "lr_model = LogisticRegression()\n",
    "\n",
    "lr_model.fit(tfidf_train, y_train)\n",
    "lr_y_pred = lr_model.predict(tfidf_test)\n",
    "\n",
    "lr_score=accuracy_score(y_test,lr_y_pred)\n",
    "print(f'The accuracy is {(lr_score)}')"
   ]
  },
  {
   "cell_type": "markdown",
   "metadata": {},
   "source": [
    "The fourth model is the Stochastic Gradient Descent Classifier."
   ]
  },
  {
   "cell_type": "code",
   "execution_count": 42,
   "metadata": {},
   "outputs": [
    {
     "name": "stdout",
     "output_type": "stream",
     "text": [
      "The accuracy is 0.6026856240126383\n"
     ]
    }
   ],
   "source": [
    "sgd_model = SGDClassifier(loss=\"hinge\", penalty=\"l2\", max_iter=50)\n",
    "\n",
    "sgd_model.fit(tfidf_train, y_train)\n",
    "sgd_y_pred = sgd_model.predict(tfidf_test)\n",
    "\n",
    "sgd_score=accuracy_score(y_test,sgd_y_pred)\n",
    "print(f'The accuracy is {(sgd_score)}')"
   ]
  },
  {
   "cell_type": "markdown",
   "metadata": {},
   "source": [
    "The fourth model is the Random Forest Classifier."
   ]
  },
  {
   "cell_type": "code",
   "execution_count": 43,
   "metadata": {},
   "outputs": [
    {
     "name": "stdout",
     "output_type": "stream",
     "text": [
      "The accuracy is 0.608214849921011\n"
     ]
    }
   ],
   "source": [
    "rf_model = RandomForestClassifier(n_estimators=150, n_jobs=-1)\n",
    "\n",
    "rf_model.fit(tfidf_train, y_train)\n",
    "rf_y_pred = rf_model.predict(tfidf_test)\n",
    "\n",
    "rf_score=accuracy_score(y_test,rf_y_pred)\n",
    "print(f'The accuracy is {(rf_score)}')"
   ]
  },
  {
   "cell_type": "markdown",
   "metadata": {},
   "source": [
    "The fourth model is the Support Vector Classifier."
   ]
  },
  {
   "cell_type": "code",
   "execution_count": 44,
   "metadata": {},
   "outputs": [
    {
     "name": "stdout",
     "output_type": "stream",
     "text": [
      "The accuracy is 0.6018957345971564\n"
     ]
    }
   ],
   "source": [
    "svc_model = svm.LinearSVC()\n",
    "\n",
    "svc_model.fit(tfidf_train, y_train)\n",
    "svc_y_pred = svc_model.predict(tfidf_test)\n",
    "\n",
    "svc_score=accuracy_score(y_test,svc_y_pred)\n",
    "print(f'The accuracy is {(svc_score)}')"
   ]
  },
  {
   "cell_type": "markdown",
   "metadata": {},
   "source": [
    "To determine the best model, we compare the results of the different models.\n",
    "\n",
    "| Model | Accuracy |\n",
    "| --- | --- |\n",
    "| Passive Aggressive Classifier | 0.5521 |\n",
    "| Multinomial NB | 0.6011 |\n",
    "| Logistic Regression | 0.6161 |\n",
    "| SGD Classifier | 0.6027 |\n",
    "| Random Forest Classifier | 0.6082 |\n",
    "| Linear SVC | 0.6019 |\n",
    "\n",
    "Purely based on the accuracy, the best performing model is the Logistic Regression Classifier followed by the Random Forest classifier."
   ]
  },
  {
   "cell_type": "markdown",
   "metadata": {},
   "source": [
    "Below, the confusion matrix of each model is shown. This provides a clearer overview of the performance of each model. The confusion matrix is made up as:\n",
    "- True Positives (Top-Left Square): Observation is positive and correctly predicted as positive.\n",
    "- False Negatives (Top-Right Square): Observation is positive but incorrectly predicted as negative.\n",
    "- False Positives (Bottom-Left Square): Observation is negative but incorrectly predicted as positive.\n",
    "- True Negatives (Bottom-Right Square): Observation is negative and correctly predicted as negative.\n",
    "\n",
    "From the confusion matrices, the best performing models are Logistic Regression, Random Forest and Stochastic Gradient Descent."
   ]
  },
  {
   "cell_type": "code",
   "execution_count": 45,
   "metadata": {},
   "outputs": [
    {
     "data": {
      "image/png": "[encoded data removed]",
      "text/plain": [
       "<Figure size 1800x1080 with 12 Axes>"
      ]
     },
     "metadata": {
      "needs_background": "light"
     },
     "output_type": "display_data"
    }
   ],
   "source": [
    "from sklearn.metrics import classification_report\n",
    "import matplotlib.pyplot as plt\n",
    "from matplotlib import cm\n",
    "import seaborn as sns\n",
    "\n",
    "pac_conmat = confusion_matrix(y_test, pac_y_pred)\n",
    "nb_conmat = confusion_matrix(y_test, nb_y_pred)\n",
    "lr_conmat = confusion_matrix(y_test, lr_y_pred)\n",
    "sgd_conmat = confusion_matrix(y_test, sgd_y_pred)\n",
    "rf_conmat = confusion_matrix(y_test, rf_y_pred)\n",
    "svc_conmat = confusion_matrix(y_test, svc_y_pred)\n",
    "\n",
    "fig, ax = plt.subplots(2, 3, figsize=(25,15))\n",
    "\n",
    "sns.heatmap(lr_conmat , ax=ax[0][0], annot=True, cmap=plt.cm.get_cmap('YlGnBu'))\n",
    "ax[0, 0].set_title(\"Logistic Regression \\n Confusion Matrix\", fontsize=14)\n",
    "ax[0, 0].set_xticklabels(['', ''], fontsize=14, rotation=90)\n",
    "ax[0, 0].set_yticklabels(['', ''], fontsize=14, rotation=360)\n",
    "\n",
    "sns.heatmap(sgd_conmat, ax=ax[0][1], annot=True, cmap=plt.cm.get_cmap('YlGnBu'))\n",
    "ax[0][1].set_title(\"Stochastic Gradient Descent \\n Confusion Matrix\", fontsize=14)\n",
    "ax[0][1].set_xticklabels(['', ''], fontsize=14, rotation=90)\n",
    "ax[0][1].set_yticklabels(['', ''], fontsize=14, rotation=360)\n",
    "\n",
    "sns.heatmap(pac_conmat, ax=ax[1][0], annot=True, cmap=plt.cm.get_cmap('YlGnBu'))\n",
    "ax[1][0].set_title(\"Passive Aggressive Classifier \\n Confusion Matrix\", fontsize=14)\n",
    "ax[1][0].set_xticklabels(['', ''], fontsize=14, rotation=90)\n",
    "ax[1][0].set_yticklabels(['', ''], fontsize=14, rotation=360)\n",
    "\n",
    "sns.heatmap(nb_conmat, ax=ax[1][1], annot=True, cmap=plt.cm.get_cmap('YlGnBu'))\n",
    "ax[1][1].set_title(\"Naive-Bayes \\n Confusion Matrix\", fontsize=14)\n",
    "ax[1][1].set_xticklabels(['', ''], fontsize=14, rotation=90)\n",
    "ax[1][1].set_yticklabels(['', ''], fontsize=14, rotation=360)\n",
    "\n",
    "sns.heatmap(rf_conmat, ax=ax[0][2], annot=True, cmap=plt.cm.get_cmap('YlGnBu'))\n",
    "ax[0][2].set_title(\"Random Forest Classifier \\n Confusion Matrix\", fontsize=14)\n",
    "ax[0][2].set_xticklabels(['', ''], fontsize=14, rotation=90)\n",
    "ax[0][2].set_yticklabels(['', ''], fontsize=14, rotation=360)\n",
    "\n",
    "sns.heatmap(svc_conmat, ax=ax[1][2], annot=True, cmap=plt.cm.get_cmap('YlGnBu'))\n",
    "ax[1][2].set_title(\"Linear SVC \\n Confusion Matrix\", fontsize=14)\n",
    "ax[1][2].set_xticklabels(['', ''], fontsize=14, rotation=90)\n",
    "ax[1][2].set_yticklabels(['', ''], fontsize=14, rotation=360)\n",
    "\n",
    "\n",
    "\n",
    "plt.show()"
   ]
  },
  {
   "cell_type": "markdown",
   "metadata": {},
   "source": [
    "To improve the performance of the top two models(**Logistic Regression** and **Random Forest**), hyper-parameter tuning will be done using both **GridSearchCV** and **RandomizedSearchCV** to determine the final best model to be used as the classifier."
   ]
  },
  {
   "cell_type": "code",
   "execution_count": 84,
   "metadata": {},
   "outputs": [
    {
     "name": "stdout",
     "output_type": "stream",
     "text": [
      "The GridSearchCV Logistic Regression accuracy is 0.6161137440758294\n",
      "The GridSearchCV Random Forest accuracy is 0.5639810426540285\n"
     ]
    }
   ],
   "source": [
    "from sklearn.model_selection import RandomizedSearchCV, GridSearchCV\n",
    "\n",
    "lr_model = LogisticRegression(max_iter=2000)\n",
    "#Logistic Regression GridSearchCV\n",
    "\n",
    "penalty = ['l2']\n",
    "C = [1, 5, 10, 20]\n",
    "\n",
    "hyperparameters = dict(C=C, penalty=penalty)\n",
    "\n",
    "grid_lr = GridSearchCV(lr_model, hyperparameters, cv=3, n_jobs=-1)\n",
    "\n",
    "grid_lr.fit(tfidf_train, y_train)\n",
    "grid_lr_y_pred = grid_lr.predict(tfidf_test)\n",
    "\n",
    "grid_lr_score=accuracy_score(y_test,grid_lr_y_pred)\n",
    "print(f'The GridSearchCV Logistic Regression accuracy is {(grid_lr_score)}')\n",
    "\n",
    "#Random Forest GridSearchCV\n",
    "\n",
    "n_estimators = [100]\n",
    "max_depth = [10]\n",
    "random_state = [0]\n",
    "\n",
    "params = dict(n_estimators = n_estimators, max_depth = max_depth, random_state = random_state)\n",
    "\n",
    "grid_rf = GridSearchCV(rf_model, params, cv=5, n_jobs=-1)\n",
    "\n",
    "grid_rf.fit(tfidf_train, y_train)\n",
    "grid_rf_y_pred = grid_rf.predict(tfidf_test)\n",
    "\n",
    "grid_rf_score=accuracy_score(y_test,grid_rf_y_pred)\n",
    "print(f'The GridSearchCV Random Forest accuracy is {(grid_rf_score)}')\n"
   ]
  },
  {
   "cell_type": "code",
   "execution_count": 87,
   "metadata": {},
   "outputs": [
    {
     "name": "stdout",
     "output_type": "stream",
     "text": [
      "The RandomSearchCV Logistic Regression accuracy is 0.6113744075829384\n"
     ]
    },
    {
     "name": "stderr",
     "output_type": "stream",
     "text": [
      "C:\\Users\\user\\anaconda3\\lib\\site-packages\\sklearn\\model_selection\\_search.py:281: UserWarning: The total space of parameters 1 is smaller than n_iter=10. Running 1 iterations. For exhaustive searches, use GridSearchCV.\n",
      "  % (grid_size, self.n_iter, grid_size), UserWarning)\n"
     ]
    },
    {
     "name": "stdout",
     "output_type": "stream",
     "text": [
      "The RandomSearchCV Random Forest accuracy is 0.5639810426540285\n"
     ]
    }
   ],
   "source": [
    "from scipy.stats import uniform\n",
    "\n",
    "#Logistic Regression RandomSearchCV\n",
    "\n",
    "penalty = ['l2']\n",
    "C=uniform(loc=0, scale=4)\n",
    "\n",
    "hyperparameters = dict(C=C, penalty=penalty)\n",
    "\n",
    "random_lr = RandomizedSearchCV(lr_model, hyperparameters, cv=10, n_jobs=-1)\n",
    "\n",
    "random_lr.fit(tfidf_train, y_train)\n",
    "random_lr_y_pred = random_lr.predict(tfidf_test)\n",
    "\n",
    "random_lr_score=accuracy_score(y_test,random_lr_y_pred)\n",
    "print(f'The RandomSearchCV Logistic Regression accuracy is {(random_lr_score)}')\n",
    "\n",
    "#Random Forest RandomSearchCV\n",
    "\n",
    "n_estimators = [100]\n",
    "max_depth = [10]\n",
    "random_state = [1]\n",
    "\n",
    "params = dict(n_estimators = n_estimators, max_depth = max_depth, random_state = random_state)\n",
    "\n",
    "random_rf = RandomizedSearchCV(rf_model, params, cv=10, n_jobs=-1)\n",
    "\n",
    "random_rf.fit(tfidf_train, y_train)\n",
    "random_rf_y_pred = random_rf.predict(tfidf_test)\n",
    "\n",
    "random_rf_score=accuracy_score(y_test,random_rf_y_pred)\n",
    "print(f'The RandomSearchCV Random Forest accuracy is {(random_rf_score)}')"
   ]
  },
  {
   "cell_type": "markdown",
   "metadata": {},
   "source": [
    "From above, hyperparameter tuning had no effect on the accuracy of the Logistic Regression classifier but had a negative effect on the accuracy for the Random Forest accuracy score. Therefore, the best model is the Logistic Regression classifier. "
   ]
  }
 ],
 "metadata": {
  "kernelspec": {
   "display_name": "Python 3",
   "language": "python",
   "name": "python3"
  },
  "language_info": {
   "codemirror_mode": {
    "name": "ipython",
    "version": 3
   },
   "file_extension": ".py",
   "mimetype": "text/x-python",
   "name": "python",
   "nbconvert_exporter": "python",
   "pygments_lexer": "ipython3",
   "version": "3.7.6"
  }
 },
 "nbformat": 4,
 "nbformat_minor": 4
}
